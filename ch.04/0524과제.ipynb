{
 "metadata": {
  "language_info": {
   "codemirror_mode": {
    "name": "ipython",
    "version": 3
   },
   "file_extension": ".py",
   "mimetype": "text/x-python",
   "name": "python",
   "nbconvert_exporter": "python",
   "pygments_lexer": "ipython3",
   "version": "3.8.5"
  },
  "orig_nbformat": 2,
  "kernelspec": {
   "name": "python385jvsc74a57bd08c1eae21719a0790335dcb83aad72b63b602cfe5cdb2bda0f60bc11d4f154e4b",
   "display_name": "Python 3.8.5 64-bit ('base': conda)"
  }
 },
 "nbformat": 4,
 "nbformat_minor": 2,
 "cells": [
  {
   "source": [
    "# 1. 조건문"
   ],
   "cell_type": "markdown",
   "metadata": {}
  },
  {
   "source": [
    "### 1. 윤년인지 아닌지 알아보기"
   ],
   "cell_type": "markdown",
   "metadata": {}
  },
  {
   "cell_type": "code",
   "execution_count": 2,
   "metadata": {},
   "outputs": [
    {
     "output_type": "stream",
     "name": "stdout",
     "text": [
      "윤년\n"
     ]
    }
   ],
   "source": [
    "    yyy = int(input(\"연도를 입력하세요\"))\n",
    "    if  yyy % 4 == 0 and yyy % 100 != 0:\n",
    "        print('윤년')\n",
    "    elif yyy % 400 == 0:\n",
    "        print('윤년')\n",
    "    else:\n",
    "        print(\"윤년아님\")"
   ]
  },
  {
   "source": [
    "### 2. 만나이 구하기"
   ],
   "cell_type": "markdown",
   "metadata": {}
  },
  {
   "cell_type": "code",
   "execution_count": 91,
   "metadata": {},
   "outputs": [
    {
     "output_type": "stream",
     "name": "stdout",
     "text": [
      "24\n"
     ]
    }
   ],
   "source": [
    "real_year = int(input(\"출생년도\"))\n",
    "real_month = int(input(\"월\"))\n",
    "real_day = int(input(\"일\"))\n",
    "from datetime import date\n",
    "date.today()\n",
    "today = date.today()\n",
    "today_month = today.month\n",
    "today_year = today.year\n",
    "today_day = today.day\n",
    "\n",
    "if today_month > real_month or today_month == real_month and today_day >= real_day:\n",
    "    print(today_year-real_year)\n",
    "   \n",
    "elif today_month == real_month and today_day < real_day or today_month < real_month:\n",
    "    print(today_year-real_year-1)\n",
    "    \n"
   ]
  },
  {
   "source": [
    "### 3. 피타고라스 수 구하기"
   ],
   "cell_type": "markdown",
   "metadata": {}
  },
  {
   "cell_type": "code",
   "execution_count": null,
   "metadata": {},
   "outputs": [],
   "source": []
  },
  {
   "source": [
    "# 2. 반복문"
   ],
   "cell_type": "markdown",
   "metadata": {}
  },
  {
   "source": [
    "### 1. 별그리기"
   ],
   "cell_type": "markdown",
   "metadata": {}
  },
  {
   "cell_type": "code",
   "execution_count": 31,
   "metadata": {},
   "outputs": [
    {
     "output_type": "stream",
     "name": "stdout",
     "text": [
      "    *\n   ***\n  *****\n *******\n*********\n *******\n  *****\n   ***\n    *\n"
     ]
    }
   ],
   "source": [
    "n = 5\n",
    "for i in range (1, n*2, 2):\n",
    "    print((\" \" * ((n * 2-1-i)//2)) + (\"*\" * i))\n",
    "for k in range (n*2-3, 0, -2):\n",
    "    print((\" \" * ((n*2-1-k)//2)) + \"*\" * k)"
   ]
  },
  {
   "source": [
    "### 2. 디지털 시계에 3이 표시되는 시간"
   ],
   "cell_type": "markdown",
   "metadata": {}
  },
  {
   "source": [
    "### 3. 숫자의 개수"
   ],
   "cell_type": "markdown",
   "metadata": {}
  },
  {
   "cell_type": "code",
   "execution_count": 33,
   "metadata": {},
   "outputs": [],
   "source": [
    "count = [0,0,0,0,0,0,0,0,0,0]\n",
    "for i in range(1,1001):\n",
    "    for k in range(0,10):\n",
    "        count[k]"
   ]
  },
  {
   "source": [
    "### 4. 완전수"
   ],
   "cell_type": "markdown",
   "metadata": {}
  },
  {
   "cell_type": "code",
   "execution_count": null,
   "metadata": {},
   "outputs": [],
   "source": []
  }
 ]
}