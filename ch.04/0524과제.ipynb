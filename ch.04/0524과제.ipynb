{
 "metadata": {
  "language_info": {
   "codemirror_mode": {
    "name": "ipython",
    "version": 3
   },
   "file_extension": ".py",
   "mimetype": "text/x-python",
   "name": "python",
   "nbconvert_exporter": "python",
   "pygments_lexer": "ipython3",
   "version": "3.8.5"
  },
  "orig_nbformat": 2,
  "kernelspec": {
   "name": "python385jvsc74a57bd08c1eae21719a0790335dcb83aad72b63b602cfe5cdb2bda0f60bc11d4f154e4b",
   "display_name": "Python 3.8.5 64-bit ('base': conda)"
  }
 },
 "nbformat": 4,
 "nbformat_minor": 2,
 "cells": [
  {
   "source": [
    "# 1. 조건문"
   ],
   "cell_type": "markdown",
   "metadata": {}
  },
  {
   "source": [
    "### 1. 윤년인지 아닌지 알아보기"
   ],
   "cell_type": "markdown",
   "metadata": {}
  },
  {
   "cell_type": "code",
   "execution_count": 2,
   "metadata": {},
   "outputs": [
    {
     "output_type": "stream",
     "name": "stdout",
     "text": [
      "윤년\n"
     ]
    }
   ],
   "source": [
    "    yyy = int(input(\"연도를 입력하세요\"))\n",
    "    if  yyy % 4 == 0 and yyy % 100 != 0:\n",
    "        print('윤년')\n",
    "    elif yyy % 400 == 0:\n",
    "        print('윤년')\n",
    "    else:\n",
    "        print(\"윤년아님\")"
   ]
  },
  {
   "source": [
    "### 2. 만나이 구하기"
   ],
   "cell_type": "markdown",
   "metadata": {}
  },
  {
   "cell_type": "code",
   "execution_count": 91,
   "metadata": {},
   "outputs": [
    {
     "output_type": "stream",
     "name": "stdout",
     "text": [
      "24\n"
     ]
    }
   ],
   "source": [
    "real_year = int(input(\"출생년도\"))\n",
    "real_month = int(input(\"월\"))\n",
    "real_day = int(input(\"일\"))\n",
    "from datetime import date\n",
    "date.today()\n",
    "today = date.today()\n",
    "today_month = today.month\n",
    "today_year = today.year\n",
    "today_day = today.day\n",
    "\n",
    "if today_month > real_month or today_month == real_month and today_day >= real_day:\n",
    "    print(today_year-real_year)\n",
    "   \n",
    "elif today_month == real_month and today_day < real_day or today_month < real_month:\n",
    "    print(today_year-real_year-1)\n",
    "    \n"
   ]
  },
  {
   "source": [
    "### 3. 피타고라스 수 구하기"
   ],
   "cell_type": "markdown",
   "metadata": {}
  },
  {
   "cell_type": "code",
   "execution_count": 1,
   "metadata": {},
   "outputs": [
    {
     "output_type": "stream",
     "name": "stdout",
     "text": [
      "200,375,425\n"
     ]
    }
   ],
   "source": [
    "for a in range(1,333):\n",
    "    for b in range(a+1, 500):\n",
    "        c= 1000-a-b\n",
    "        if c>(a+b):\n",
    "            continue\n",
    "        if c*c==a*a+b*b:\n",
    "            print(f\"{a},{b},{c}\")\n",
    "            break"
   ]
  },
  {
   "source": [
    "# 2. 반복문"
   ],
   "cell_type": "markdown",
   "metadata": {}
  },
  {
   "source": [
    "### 1. 별그리기"
   ],
   "cell_type": "markdown",
   "metadata": {}
  },
  {
   "cell_type": "code",
   "execution_count": 3,
   "metadata": {},
   "outputs": [
    {
     "output_type": "stream",
     "name": "stdout",
     "text": [
      "          *\n         ***\n        *****\n       *******\n      *********\n     ***********\n    *************\n   ***************\n  *****************\n *******************\n*********************\n *******************\n  *****************\n   ***************\n    *************\n     ***********\n      *********\n       *******\n        *****\n         ***\n          *\n"
     ]
    }
   ],
   "source": [
    "n = int(input(\"홀수 입력\"))\n",
    "for i in range (1, n*2, 2):\n",
    "    print((\" \" * ((n * 2-1-i)//2)) + (\"*\" * i))\n",
    "for k in range (n*2-3, 0, -2):\n",
    "    print((\" \" * ((n*2-1-k)//2)) + \"*\" * k)"
   ]
  },
  {
   "source": [
    "### 2. 디지털 시계에 3이 표시되는 시간"
   ],
   "cell_type": "markdown",
   "metadata": {}
  },
  {
   "cell_type": "code",
   "execution_count": null,
   "metadata": {},
   "outputs": [],
   "source": [
    "total_seconds = 0\n",
    "for hour in range(24):\n",
    "    for min in range(60):\n",
    "        time = str(hour) = str(min)\n",
    "        if \"3\" in time:\n",
    "            total_seconds\n",
    "            "
   ]
  },
  {
   "source": [
    "### 3. 숫자의 개수"
   ],
   "cell_type": "markdown",
   "metadata": {}
  },
  {
   "cell_type": "code",
   "execution_count": 32,
   "metadata": {},
   "outputs": [],
   "source": [
    "num_counts =[0,0,0,0,0,0,0,0,0,0]\n",
    "numbers = \" \"\n",
    "for i in range(1,1001):\n",
    "    numbers += str(i)\n",
    "    #for k in range(0,10):\n",
    "        "
   ]
  },
  {
   "cell_type": "code",
   "execution_count": 33,
   "metadata": {},
   "outputs": [
    {
     "output_type": "execute_result",
     "data": {
      "text/plain": [
       "192"
      ]
     },
     "metadata": {},
     "execution_count": 33
    }
   ],
   "source": [
    "numbers.count(\"0\")"
   ]
  },
  {
   "cell_type": "code",
   "execution_count": 34,
   "metadata": {},
   "outputs": [
    {
     "output_type": "stream",
     "name": "stdout",
     "text": [
      "[192, 301, 300, 300, 300, 300, 300, 300, 300, 300]\n"
     ]
    }
   ],
   "source": [
    "for i in range(10):\n",
    "    num_counts[i] = numbers.count(str(i))\n",
    "print(num_counts)"
   ]
  },
  {
   "source": [
    "### 4. 완전수"
   ],
   "cell_type": "markdown",
   "metadata": {}
  },
  {
   "cell_type": "code",
   "execution_count": 17,
   "metadata": {},
   "outputs": [
    {
     "output_type": "stream",
     "name": "stdout",
     "text": [
      "1\n2\n3\n4\n6\n"
     ]
    }
   ],
   "source": [
    "#ex) 약수찾기\n",
    "for i in range(1,12*1):\n",
    "    if 12 % i == 0:\n",
    "        print(i)"
   ]
  },
  {
   "cell_type": "code",
   "execution_count": 30,
   "metadata": {
    "tags": []
   },
   "outputs": [
    {
     "output_type": "stream",
     "name": "stdout",
     "text": [
      "14211\n"
     ]
    }
   ],
   "source": [
    "#자기자신을 제외한 약수의 합\n",
    "sum = 0\n",
    "for i in range(1, num):\n",
    "    if num % i == 0:\n",
    "        sum += i\n",
    "print(sum)"
   ]
  },
  {
   "cell_type": "code",
   "execution_count": 23,
   "metadata": {
    "tags": []
   },
   "outputs": [
    {
     "output_type": "stream",
     "name": "stdout",
     "text": [
      "6\n",
      "28\n",
      "496\n",
      "8128\n"
     ]
    }
   ],
   "source": [
    "for num in range(2, 10001):\n",
    "    sum = 0\n",
    "    for i in range(1,num):\n",
    "        if num % i == 0:\n",
    "            sum += i\n",
    "    if sum == num:\n",
    "            print(num)"
   ]
  },
  {
   "source": [
    "### 5. 제곱의합 합의제곱"
   ],
   "cell_type": "markdown",
   "metadata": {}
  },
  {
   "cell_type": "code",
   "execution_count": 36,
   "metadata": {},
   "outputs": [
    {
     "output_type": "stream",
     "name": "stdout",
     "text": [
      "합의 제곱: 225, 제곱의 합:55\n차이: 170\n"
     ]
    }
   ],
   "source": [
    "num = int(input(\"양의 정수 입력\"))\n",
    "square_of_sum, sum_of_square, sum = 0, 0, 0\n",
    "for i in range(1, num+1):\n",
    "    sum_of_square += i*i\n",
    "    square_of_sum += i\n",
    "print(f\"합의 제곱: {square_of_sum**2}, 제곱의 합:{sum_of_square}\")\n",
    "print(f\"차이: {square_of_sum**2-sum_of_square}\")"
   ]
  }
 ]
}