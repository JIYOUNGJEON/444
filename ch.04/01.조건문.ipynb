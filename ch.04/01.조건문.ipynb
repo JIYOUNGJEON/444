{
 "metadata": {
  "language_info": {
   "codemirror_mode": {
    "name": "ipython",
    "version": 3
   },
   "file_extension": ".py",
   "mimetype": "text/x-python",
   "name": "python",
   "nbconvert_exporter": "python",
   "pygments_lexer": "ipython3",
   "version": "3.8.5"
  },
  "orig_nbformat": 2,
  "kernelspec": {
   "name": "python385jvsc74a57bd08c1eae21719a0790335dcb83aad72b63b602cfe5cdb2bda0f60bc11d4f154e4b",
   "display_name": "Python 3.8.5 64-bit ('base': conda)"
  }
 },
 "nbformat": 4,
 "nbformat_minor": 2,
 "cells": [
  {
   "source": [
    "# 조건문"
   ],
   "cell_type": "markdown",
   "metadata": {}
  },
  {
   "source": [
    "### 1)if-else"
   ],
   "cell_type": "markdown",
   "metadata": {}
  },
  {
   "cell_type": "code",
   "execution_count": 2,
   "metadata": {},
   "outputs": [
    {
     "output_type": "stream",
     "name": "stdout",
     "text": [
      "welcome to the club\n"
     ]
    }
   ],
   "source": [
    "age = int(input(\"Tell me your age\"))\n",
    "if age<30:\n",
    "    print(\"welcome to the club\")\n",
    "else:\n",
    "    print(\"you are not accepted\")"
   ]
  },
  {
   "cell_type": "code",
   "execution_count": 3,
   "metadata": {},
   "outputs": [
    {
     "output_type": "stream",
     "name": "stdout",
     "text": [
      "you are not accepted\n"
     ]
    }
   ],
   "source": [
    "age = int(input(\"Tell me your age\"))\n",
    "if age>15 and age<30:\n",
    "    print(\"welcome to the club\")\n",
    "else:\n",
    "    print(\"you are not accepted\")"
   ]
  },
  {
   "cell_type": "code",
   "execution_count": 4,
   "metadata": {},
   "outputs": [
    {
     "output_type": "stream",
     "name": "stdout",
     "text": [
      "***\n"
     ]
    }
   ],
   "source": [
    "print(\"***\")"
   ]
  },
  {
   "cell_type": "code",
   "execution_count": 5,
   "metadata": {},
   "outputs": [
    {
     "output_type": "stream",
     "name": "stdout",
     "text": [
      "welcome to the club\n"
     ]
    }
   ],
   "source": [
    "#조건문의 실행문이 단문일 경우에는 인덴테이션 무시해도 됨.\n",
    "age = int(input(\"Tell me your age\"))\n",
    "if age>15 and age<30:print(\"welcome to the club\")\n",
    "else:print(\"you are not accepted\")"
   ]
  },
  {
   "cell_type": "code",
   "execution_count": 6,
   "metadata": {},
   "outputs": [
    {
     "output_type": "stream",
     "name": "stdout",
     "text": [
      "welcome to the club\n"
     ]
    }
   ],
   "source": [
    "#조건식 between개념으로 사용할 수 있다.\n",
    "age = int(input(\"Tell me your age\"))\n",
    "if 15<age<30:print(\"welcome to the club\")\n",
    "else:print(\"you are not accepted\")"
   ]
  },
  {
   "source": [
    "### - 3항 연산자"
   ],
   "cell_type": "markdown",
   "metadata": {}
  },
  {
   "cell_type": "code",
   "execution_count": 7,
   "metadata": {},
   "outputs": [
    {
     "output_type": "stream",
     "name": "stdout",
     "text": [
      "you are not accepted\n"
     ]
    }
   ],
   "source": [
    "age = int(input(\"Tell me your age\"))\n",
    "msg = \"welcome to the club\" if 15<age<30 else \"you are not accepted\"\n",
    "print(msg)"
   ]
  },
  {
   "source": [
    "### -조건의 판단"
   ],
   "cell_type": "markdown",
   "metadata": {}
  },
  {
   "cell_type": "code",
   "execution_count": 8,
   "metadata": {},
   "outputs": [
    {
     "output_type": "execute_result",
     "data": {
      "text/plain": [
       "True"
      ]
     },
     "metadata": {},
     "execution_count": 8
    }
   ],
   "source": [
    "3 == 3 or 99998\n",
    "# or앞쪽의 값이 ture면 or이후의 값은 계산하지 않음. "
   ]
  },
  {
   "cell_type": "code",
   "execution_count": 9,
   "metadata": {},
   "outputs": [
    {
     "output_type": "execute_result",
     "data": {
      "text/plain": [
       "99998"
      ]
     },
     "metadata": {},
     "execution_count": 9
    }
   ],
   "source": [
    "3 == 4 or 99998\n",
    "# or앞쪽의 값이 false면 or연산값은 무조건 or뒤에 값."
   ]
  },
  {
   "source": [
    "### 2) if-elif-else"
   ],
   "cell_type": "markdown",
   "metadata": {}
  },
  {
   "cell_type": "code",
   "execution_count": 11,
   "metadata": {},
   "outputs": [
    {
     "output_type": "stream",
     "name": "stdout",
     "text": [
      "D\n"
     ]
    }
   ],
   "source": [
    "score = 98\n",
    "if score >=90:\n",
    "    grade = \"A\"\n",
    "if score >=80:\n",
    "    grade = \"B\"\n",
    "if score >=70:\n",
    "    grade = \"C\"\n",
    "if score >=60:\n",
    "    grade = \"D\"\n",
    "if score <60:\n",
    "    grade = \"F\"\n",
    "print(grade)\n",
    "##틀린식임!\n",
    "#조건의 포함 범위가 갈수록 커지는 방향으로 if문을 작성하면 틀린다."
   ]
  },
  {
   "cell_type": "code",
   "execution_count": 12,
   "metadata": {},
   "outputs": [
    {
     "output_type": "stream",
     "name": "stdout",
     "text": [
      "A\n"
     ]
    }
   ],
   "source": [
    "score = 98\n",
    "if score <60: grade = \"F\"\n",
    "if score >=60: grade = \"D\"\n",
    "if score >=70: grade = \"C\"\n",
    "if score >=80: grade = \"B\"\n",
    "if score >=90: grade = \"A\"\n",
    "print(grade)\n",
    "# sol1)조건 범위가 갈수록 줄어드는 방향으로 작성하면 해결."
   ]
  },
  {
   "cell_type": "code",
   "execution_count": 13,
   "metadata": {},
   "outputs": [
    {
     "output_type": "stream",
     "name": "stdout",
     "text": [
      "A\n"
     ]
    }
   ],
   "source": [
    "score = 98\n",
    "if score >=90:\n",
    "    grade = \"A\"\n",
    "elif score >=80:\n",
    "    grade = \"B\"\n",
    "elif score >=70:\n",
    "    grade = \"C\"\n",
    "elif score >=60:\n",
    "    grade = \"D\"\n",
    "else:\n",
    "    grade = \"F\"\n",
    "print(grade)\n",
    "# sol2) if-elif-else구문으로 사용하면 해결."
   ]
  },
  {
   "cell_type": "code",
   "execution_count": 21,
   "metadata": {},
   "outputs": [
    {
     "output_type": "stream",
     "name": "stdout",
     "text": [
      "C\n"
     ]
    }
   ],
   "source": [
    "#위의 식을 3항 연산자로?\n",
    "score = 78\n",
    "grade = \"A\" if score >=90 else\\\n",
    "            \"B\" if score >=80 else\\\n",
    "                \"C\" if score >=70 else\\\n",
    "                    \"D\" if score >=60 else \"F\"\n",
    "print(grade)"
   ]
  },
  {
   "source": [
    "### 3) if 응용"
   ],
   "cell_type": "markdown",
   "metadata": {}
  },
  {
   "cell_type": "code",
   "execution_count": 22,
   "metadata": {},
   "outputs": [
    {
     "output_type": "execute_result",
     "data": {
      "text/plain": [
       "datetime.date(2021, 5, 24)"
      ]
     },
     "metadata": {},
     "execution_count": 22
    }
   ],
   "source": [
    "from datetime import date\n",
    "date.today()"
   ]
  },
  {
   "cell_type": "code",
   "execution_count": 23,
   "metadata": {},
   "outputs": [
    {
     "output_type": "execute_result",
     "data": {
      "text/plain": [
       "(2021, 5, 24)"
      ]
     },
     "metadata": {},
     "execution_count": 23
    }
   ],
   "source": [
    "today = date.today()\n",
    "today.year, today.month, today.day"
   ]
  },
  {
   "cell_type": "code",
   "execution_count": 25,
   "metadata": {},
   "outputs": [
    {
     "output_type": "stream",
     "name": "stdout",
     "text": [
      "학생이 아닙니다\n"
     ]
    }
   ],
   "source": [
    "birth_year = int(input(\"태어난 연도를 입력하세요\"))\n",
    "age = today.year-birth_year+1\n",
    "\n",
    "if age <= 26 and age >=20:\n",
    "    print(\"대학생\")\n",
    "elif age < 20 and age >=17:\n",
    "    print(\"고등학생\")\n",
    "elif age < 17 and age >=14:\n",
    "    print(\"중학생\")\n",
    "elif age < 14 and age >=8:\n",
    "    print(\"초등학생\")\n",
    "else:\n",
    "    print(\"학생이 아닙니다\")"
   ]
  },
  {
   "source": [
    "#### -FizzBuzz"
   ],
   "cell_type": "markdown",
   "metadata": {}
  },
  {
   "cell_type": "code",
   "execution_count": 27,
   "metadata": {},
   "outputs": [
    {
     "output_type": "stream",
     "name": "stdout",
     "text": [
      "1\n2\nFizz\n4\nBuzz\nFizz\n7\n8\nFizz\nBuzz\n11\nFizz\n13\n14\nFizzBuzz\n16\n17\nFizz\n19\nBuzz\nFizz\n22\n23\nFizz\nBuzz\n26\nFizz\n28\n29\nFizzBuzz\n31\n32\nFizz\n34\nBuzz\nFizz\n37\n38\nFizz\nBuzz\n41\nFizz\n43\n44\nFizzBuzz\n46\n47\nFizz\n49\nBuzz\nFizz\n52\n53\nFizz\nBuzz\n56\nFizz\n58\n59\nFizzBuzz\n61\n62\nFizz\n64\nBuzz\nFizz\n67\n68\nFizz\nBuzz\n71\nFizz\n73\n74\nFizzBuzz\n76\n77\nFizz\n79\nBuzz\nFizz\n82\n83\nFizz\nBuzz\n86\nFizz\n88\n89\nFizzBuzz\n91\n92\nFizz\n94\nBuzz\nFizz\n97\n98\nFizz\nBuzz\n"
     ]
    }
   ],
   "source": [
    "for i in range(1, 101):\n",
    "    if i % 3 == 0 and i % 5 == 0:\n",
    "        print('FizzBuzz')\n",
    "    elif i % 3 == 0:\n",
    "        print('Fizz')\n",
    "    elif i % 5 == 0:\n",
    "        print('Buzz')\n",
    "    else:\n",
    "        print(i)"
   ]
  },
  {
   "cell_type": "code",
   "execution_count": null,
   "metadata": {},
   "outputs": [],
   "source": [
    "for i in range(1, 101):\n",
    "    print(\"Fizz\"*(i % 3 == 0)+\"Buzz\"*i % 5 == 0 or i)"
   ]
  }
 ]
}